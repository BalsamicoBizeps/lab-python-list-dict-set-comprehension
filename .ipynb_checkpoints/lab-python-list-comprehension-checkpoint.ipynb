{
 "cells": [
  {
   "cell_type": "markdown",
   "id": "25d7736c-ba17-4aff-b6bb-66eba20fbf4e",
   "metadata": {},
   "source": [
    "# Lab | List, Dict and Set Comprehension"
   ]
  },
  {
   "cell_type": "markdown",
   "id": "7dd3cbde-675a-4b81-92c3-f728846dbe06",
   "metadata": {},
   "source": [
    "## Exercise: Managing Customer Orders Optimized with Comprehension"
   ]
  },
  {
   "cell_type": "markdown",
   "id": "5d500160-2fb7-4777-b5e4-09d45ebaf328",
   "metadata": {},
   "source": [
    "In the previous exercise, you developed a program to manage customer orders and inventory. Now, let's take it a step further and incorporate comprehension into your code.\n",
    "\n",
    "Follow the steps below to complete the exercise:\n",
    "\n",
    "1. Review your code from the previous exercise and identify areas where you can apply comprehension to simplify and streamline your code. \n",
    "\n",
    "    - *Hint: Apply it to initialize inventory, updating the inventory and printing the updated inventory.*\n",
    "    \n",
    "    - For example, in initializing the inventory, we could have:\n",
    "    \n",
    "        ```python\n",
    "        def initialize_inventory(products):\n",
    "            inventory = {product: int(input(f\"Enter the quantity of {product}s available: \")) for product in products}\n",
    "            return inventory\n",
    "\n",
    "        ```\n",
    "<br>\n",
    "    \n",
    "    \n",
    "2. Modify the function get_customer_orders so it prompts the user to enter the number of customer orders and gathers the product names using a loop and user input. Use comprehension.\n",
    "\n",
    "3. Add a new function to calculate the total price of the customer order. For each product in customer_orders, prompt the user to enter the price of that product. Use comprehension to calculate the total price. Note: assume that the user can only have 1 unit of each product.\n",
    "\n",
    "4. Modify the update_inventory function to remove the product from the inventory if its quantity becomes zero after fulfilling the customer orders. Use comprehension to filter out the products with a quantity of zero from the inventory.\n",
    "\n",
    "5. Print the total price of the customer order.\n",
    "\n",
    "Your code should produce output similar to the following:\n",
    "\n",
    "```python\n",
    "Enter the quantity of t-shirts available:  5\n",
    "Enter the quantity of mugs available:  4\n",
    "Enter the quantity of hats available:  3\n",
    "Enter the quantity of books available:  2\n",
    "Enter the quantity of keychains available:  1\n",
    "Enter the number of customer orders:  2\n",
    "Enter the name of a product that a customer wants to order:  hat\n",
    "Enter the name of a product that a customer wants to order:  keychain\n",
    "\n",
    "Order Statistics:\n",
    "Total Products Ordered: 2\n",
    "Percentage of Unique Products Ordered: 40.0\n",
    "\n",
    "Updated Inventory:\n",
    "t-shirt: 5\n",
    "mug: 4\n",
    "hat: 2\n",
    "book: 2\n",
    "Enter the price of keychain:  5\n",
    "Enter the price of hat:  10\n",
    "Total Price: 15.0\n",
    "\n",
    "```\n"
   ]
  },
  {
   "cell_type": "code",
   "execution_count": 9,
   "id": "bf1176eb-0690-4098-8d49-30f30399c6a5",
   "metadata": {},
   "outputs": [
    {
     "name": "stdin",
     "output_type": "stream",
     "text": [
      "Amount of mug in inventory 5\n",
      "Amount of keychain in inventory 5\n",
      "Amount of hat in inventory 5\n",
      "Amount of book in inventory 5\n",
      "Amount of t-shirt in inventory 5\n"
     ]
    },
    {
     "name": "stdout",
     "output_type": "stream",
     "text": [
      "{'mug': 5, 'keychain': 5, 'hat': 5, 'book': 5, 't-shirt': 5}\n"
     ]
    }
   ],
   "source": [
    "# Task 1.1\n",
    "\n",
    "def initialize_inventory(products):\n",
    "    inventory = {product:int(input(f\"Amount of {product} in inventory\")) for product in products}\n",
    "    return inventory\n",
    "\n",
    "products = [\"mug\", \"keychain\", \"hat\", \"book\", \"t-shirt\"]\n",
    "inventory = initialize_inventory(products)\n",
    "print(inventory)"
   ]
  },
  {
   "cell_type": "code",
   "execution_count": 11,
   "id": "01c31226-7954-4070-97f7-21ac2087ebcf",
   "metadata": {},
   "outputs": [
    {
     "data": {
      "text/plain": [
       "{'mug': 4, 'keychain': 5, 'hat': 4, 'book': 4, 't-shirt': 5}"
      ]
     },
     "execution_count": 11,
     "metadata": {},
     "output_type": "execute_result"
    }
   ],
   "source": [
    "# Task 1.2\n",
    "\n",
    "inventory = {'mug': 5, 'keychain': 5, 'hat': 5, 'book': 5, 't-shirt': 5}\n",
    "customer_orders = {'book', 'hat', 'mug'}\n",
    "\n",
    "def update_inventory(customer_orders, inventory):\n",
    "    inventory = {product:inventory[product]-1 if product in customer_orders else inventory[product] for product in inventory}\n",
    "    return inventory\n",
    "\n",
    "inventory = update_inventory(customer_orders, inventory)\n",
    "inventory"
   ]
  },
  {
   "cell_type": "code",
   "execution_count": 83,
   "id": "d6c1c275-e03d-4ea9-8a49-46cb54789e0f",
   "metadata": {},
   "outputs": [
    {
     "name": "stdout",
     "output_type": "stream",
     "text": [
      "['mug: 4', 'keychain: 5', 'hat: 5', 'book: 4', 't-shirt: 5']\n"
     ]
    }
   ],
   "source": [
    "# Task 1.3 \n",
    "\n",
    "def print_updated_inventory(inventory):\n",
    "    inventory = [f\"{key}: {value}\" for key, value in inventory.items()]\n",
    "    return inventory\n",
    "\n",
    "print(print_updated_inventory(inventory))\n"
   ]
  },
  {
   "cell_type": "code",
   "execution_count": 13,
   "id": "6a088836-2c72-42dd-be3b-226d9272e816",
   "metadata": {},
   "outputs": [
    {
     "name": "stdin",
     "output_type": "stream",
     "text": [
      "Please enter how many orders you would like to place:  2\n",
      "Please let us know which product you would like to order (t-shirt, mug, hat, book, keychain):  mug\n",
      "Please let us know which product you would like to order (t-shirt, mug, hat, book, keychain):  book\n"
     ]
    }
   ],
   "source": [
    "# Task 2\n",
    "\n",
    "def get_customer_orders():\n",
    "    num_orders = range(int(input(\"Please enter how many orders you would like to place: \")))\n",
    "    customer_orders = {input(\"Please let us know which product you would like to order (t-shirt, mug, hat, book, keychain): \") for i in num_orders}\n",
    "    return customer_orders\n",
    "    \n",
    "customer_orders = get_customer_orders()"
   ]
  },
  {
   "cell_type": "code",
   "execution_count": 19,
   "id": "5b4cb001-bd8e-44fc-92fa-e16a6857189a",
   "metadata": {},
   "outputs": [
    {
     "name": "stdin",
     "output_type": "stream",
     "text": [
      "Please enter price of mug:  12\n",
      "Please enter price of book:  20\n"
     ]
    },
    {
     "data": {
      "text/plain": [
       "32"
      ]
     },
     "execution_count": 19,
     "metadata": {},
     "output_type": "execute_result"
    }
   ],
   "source": [
    "# Task 3\n",
    "\n",
    "def calculate_price(customer_orders):\n",
    "    price = [int(input(f\"Please enter price of {product}: \")) for product in customer_orders]\n",
    "    return sum(price)\n",
    "\n",
    "price = calculate_price(customer_orders)\n",
    "price"
   ]
  },
  {
   "cell_type": "code",
   "execution_count": 95,
   "id": "8464f02a-a76d-446b-b156-4f762a138072",
   "metadata": {},
   "outputs": [
    {
     "data": {
      "text/plain": [
       "{'mug': 4, 'keychain': 5, 'book': 4, 't-shirt': 5}"
      ]
     },
     "execution_count": 95,
     "metadata": {},
     "output_type": "execute_result"
    }
   ],
   "source": [
    "# Task 4\n",
    "inventory = {'mug': 5, 'keychain': 5, 'hat': 1, 'book': 5, 't-shirt': 5}\n",
    "customer_orders = {'book', 'hat', 'mug'}\n",
    "\n",
    "def update_inventory(customer_orders, inventory):\n",
    "    inventory = {product:inventory[product]-1 if product in customer_orders else inventory[product] for product in inventory}\n",
    "    clean_inventory = {product: inventory[product] for product in inventory if inventory[product] > 0 }\n",
    "    return clean_inventory\n",
    "\n",
    "inventory = update_inventory(customer_orders, inventory)\n",
    "inventory\n"
   ]
  },
  {
   "cell_type": "code",
   "execution_count": 89,
   "id": "60693e8c-c60d-4bd3-81ab-0ea7def83116",
   "metadata": {},
   "outputs": [
    {
     "data": {
      "text/plain": [
       "{'mug': 4, 'keychain': 5, 'book': 4, 't-shirt': 5}"
      ]
     },
     "execution_count": 89,
     "metadata": {},
     "output_type": "execute_result"
    }
   ],
   "source": [
    "inventory = {'mug': 5, 'keychain': 5, 'hat': 1, 'book': 5, 't-shirt': 5}\n",
    "customer_orders = {'book', 'hat', 'mug'}\n",
    "\n",
    "def update_inventory(customer_orders, inventory):\n",
    "    inventory = {product: inventory[product] - 1 if product in customer_orders else inventory[product] for product in inventory}\n",
    "    clean_inventory = {product: inventory[product] for product in inventory if inventory[product] > 0}\n",
    "    return clean_inventory\n",
    "\n",
    "inventory = update_inventory(customer_orders, inventory)\n",
    "inventory"
   ]
  },
  {
   "cell_type": "code",
   "execution_count": 71,
   "id": "f8838cf8-4f84-4cf7-bb57-bab40c754a81",
   "metadata": {},
   "outputs": [
    {
     "name": "stdin",
     "output_type": "stream",
     "text": [
      "Please enter price of mug:  12\n",
      "Please enter price of hat:  20\n",
      "Please enter price of book:  23\n"
     ]
    },
    {
     "name": "stdout",
     "output_type": "stream",
     "text": [
      "55\n"
     ]
    }
   ],
   "source": [
    "# Task 5\n",
    "\n",
    "print(calculate_price(customer_orders))"
   ]
  },
  {
   "cell_type": "code",
   "execution_count": 85,
   "id": "61af202d-a39f-4a6f-a42a-48b9b3a8e521",
   "metadata": {},
   "outputs": [
    {
     "name": "stdin",
     "output_type": "stream",
     "text": [
      "Amount of mug in inventory 5\n",
      "Amount of keychain in inventory 5\n",
      "Amount of hat in inventory 5\n",
      "Amount of book in inventory 5\n",
      "Amount of t-shirt in inventory 5\n",
      "Please enter how many orders you would like to place:  2\n",
      "Please let us know which product you would like to order (t-shirt, mug, hat, book, keychain):  mug\n",
      "Please let us know which product you would like to order (t-shirt, mug, hat, book, keychain):  book\n"
     ]
    },
    {
     "name": "stdout",
     "output_type": "stream",
     "text": [
      "{'total_products_ordered': 2, 'percent_of_inventory': 40.0}\n",
      "['mug: 4', 'keychain: 5', 'hat: 5', 'book: 4', 't-shirt: 5']\n"
     ]
    },
    {
     "name": "stdin",
     "output_type": "stream",
     "text": [
      "Please enter price of mug:  20\n",
      "Please enter price of book:  10\n"
     ]
    },
    {
     "data": {
      "text/plain": [
       "30"
      ]
     },
     "execution_count": 85,
     "metadata": {},
     "output_type": "execute_result"
    }
   ],
   "source": [
    "products = [\"mug\", \"keychain\", \"hat\", \"book\", \"t-shirt\"]\n",
    "\n",
    "def initialize_inventory(products):\n",
    "    inventory = {product:int(input(f\"Amount of {product} in inventory\")) for product in products}\n",
    "    return inventory\n",
    "\n",
    "def update_inventory(customer_orders, inventory):\n",
    "    inventory = {product:inventory[product]-1 if product in customer_orders else inventory[product] for product in inventory}\n",
    "    return inventory\n",
    "\n",
    "def get_customer_orders():\n",
    "    num_orders = range(int(input(\"Please enter how many orders you would like to place: \")))\n",
    "    customer_orders = {input(\"Please let us know which product you would like to order (t-shirt, mug, hat, book, keychain): \") for i in num_orders}\n",
    "    return customer_orders\n",
    "\n",
    "def calculate_price(customer_orders):\n",
    "    price = [int(input(f\"Please enter price of {product}: \")) for product in customer_orders]\n",
    "    return sum(price)\n",
    "\n",
    "def update_inventory(customer_orders, inventory):\n",
    "    inventory = {product:inventory[product]-1 if product in customer_orders else inventory[product] for product in inventory}\n",
    "    clean_inventory = {product:inventory[product] if inventory[product] > 0 else None for product in inventory}\n",
    "    return clean_inventory\n",
    "    \n",
    "def print_updated_inventory(inventory):\n",
    "    inventory = [f\"{key}: {value}\" for key, value in inventory.items()]\n",
    "    return inventory\n",
    "\n",
    "def calculate_order_statistics(customer_orders, products):\n",
    "    order_statistics = dict()\n",
    "    order_statistics[\"total_products_ordered\"] = len(customer_orders)\n",
    "    order_statistics[\"percent_of_inventory\"] = len(customer_orders) / len(products) * 100\n",
    "    return order_statistics\n",
    "\n",
    "inventory = initialize_inventory(products)\n",
    "\n",
    "customer_orders = get_customer_orders()\n",
    "\n",
    "order_statistics = calculate_order_statistics(customer_orders, products)\n",
    "\n",
    "print(order_statistics)\n",
    "\n",
    "inventory = update_inventory(customer_orders, inventory)\n",
    "\n",
    "print(print_updated_inventory(inventory))\n",
    "\n",
    "calculate_price(customer_orders)\n",
    "\n"
   ]
  },
  {
   "cell_type": "code",
   "execution_count": 75,
   "id": "1bc2d395-9ee1-4d6f-b642-3cb8932fc8a8",
   "metadata": {},
   "outputs": [
    {
     "name": "stdout",
     "output_type": "stream",
     "text": [
      "\n",
      "\n"
     ]
    }
   ],
   "source": [
    "\n",
    "\n"
   ]
  }
 ],
 "metadata": {
  "kernelspec": {
   "display_name": "Python 3 (ipykernel)",
   "language": "python",
   "name": "python3"
  },
  "language_info": {
   "codemirror_mode": {
    "name": "ipython",
    "version": 3
   },
   "file_extension": ".py",
   "mimetype": "text/x-python",
   "name": "python",
   "nbconvert_exporter": "python",
   "pygments_lexer": "ipython3",
   "version": "3.12.4"
  }
 },
 "nbformat": 4,
 "nbformat_minor": 5
}
